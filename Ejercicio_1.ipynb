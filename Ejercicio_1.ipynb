{
  "cells": [
    {
      "cell_type": "code",
      "source": [
        "import math\n",
        "from typing import Callable\n",
        "# ####################################################################\n",
        "def ODE_euler(\n",
        "    *,\n",
        "    a: float,\n",
        "    b: float,\n",
        "    f: Callable[[float, float], float],\n",
        "    y_t0: float,\n",
        "    N: int,\n",
        "    h: float\n",
        ") -> tuple[list[float], list[float], float]:\n",
        "    # h = 0.5\n",
        "    t = a\n",
        "    ts = [t]\n",
        "    ys = [y_t0]\n",
        "\n",
        "    for _ in range(N):\n",
        "        y = ys[-1]\n",
        "        y += h * f(t, y)\n",
        "        ys.append(y)\n",
        "\n",
        "        t += h\n",
        "        ts.append(t)\n",
        "    return ys, ts, h"
      ],
      "metadata": {
        "id": "1aJNwzUCtgpZ"
      },
      "execution_count": 1,
      "outputs": []
    },
    {
      "cell_type": "markdown",
      "source": [
        "a)"
      ],
      "metadata": {
        "id": "gxVfMMLFulyU"
      }
    },
    {
      "cell_type": "code",
      "source": [
        "f = lambda t, y: t * math.exp(3*t) - 2*y\n",
        "y_t0 = 0\n",
        "\n",
        "a = 0\n",
        "b = 1\n",
        "\n",
        "ys,ts, h = ODE_euler(a=a, b=b, y_t0=y_t0, f=f, N=10, h=0.5)\n",
        "ys\n"
      ],
      "metadata": {
        "colab": {
          "base_uri": "https://localhost:8080/"
        },
        "id": "nS1W2ZIQsgQB",
        "outputId": "8677cb51-0e53-4cc2-cc67-d1a4dd8a616d"
      },
      "execution_count": 2,
      "outputs": [
        {
          "output_type": "execute_result",
          "data": {
            "text/plain": [
              "[0,\n",
              " 0.0,\n",
              " 1.1204222675845161,\n",
              " 10.042768461593834,\n",
              " 67.51284847539137,\n",
              " 403.4287934927351,\n",
              " 2260.053018070079,\n",
              " 12154.625891363077,\n",
              " 63552.129679931604,\n",
              " 325509.58283800783,\n",
              " 1641186.8321573278]"
            ]
          },
          "metadata": {},
          "execution_count": 2
        }
      ]
    },
    {
      "cell_type": "markdown",
      "source": [
        "b)"
      ],
      "metadata": {
        "id": "ezywW_Q8unMJ"
      }
    },
    {
      "cell_type": "code",
      "source": [
        "f = lambda t, y: 1 + (t - y)**2\n",
        "y_t0 = 1\n",
        "\n",
        "a = 2\n",
        "b = 3\n",
        "\n",
        "ys,ts, h = ODE_euler(a=a, b=b, y_t0=y_t0, f=f, N=10, h=0.5)\n",
        "ys\n"
      ],
      "metadata": {
        "colab": {
          "base_uri": "https://localhost:8080/"
        },
        "id": "hzf6sv0ftdUS",
        "outputId": "145ec1ac-42ac-41c8-bb88-c67e7be99ab5"
      },
      "execution_count": 3,
      "outputs": [
        {
          "output_type": "execute_result",
          "data": {
            "text/plain": [
              "[1,\n",
              " 2.0,\n",
              " 2.625,\n",
              " 3.1953125,\n",
              " 3.741729736328125,\n",
              " 4.275081500876695,\n",
              " 4.800375666500635,\n",
              " 5.320300603763168,\n",
              " 5.836446540267109,\n",
              " 6.349821407362408,\n",
              " 6.861098212205712]"
            ]
          },
          "metadata": {},
          "execution_count": 3
        }
      ]
    },
    {
      "cell_type": "markdown",
      "source": [
        "c)"
      ],
      "metadata": {
        "id": "D1CTmMB5uoux"
      }
    },
    {
      "cell_type": "code",
      "source": [
        "f = lambda t, y: 1 + y/t\n",
        "y_t0 = 2\n",
        "\n",
        "a = 1\n",
        "b = 2\n",
        "\n",
        "ys,ts, h = ODE_euler(a=a, b=b, y_t0=y_t0, f=f, N=10, h=0.25)\n",
        "ys\n"
      ],
      "metadata": {
        "colab": {
          "base_uri": "https://localhost:8080/"
        },
        "id": "cQbGrdk0to0I",
        "outputId": "19b2a151-3d9e-4140-83f5-4299c99e8bc9"
      },
      "execution_count": 4,
      "outputs": [
        {
          "output_type": "execute_result",
          "data": {
            "text/plain": [
              "[2,\n",
              " 2.75,\n",
              " 3.55,\n",
              " 4.391666666666667,\n",
              " 5.269047619047619,\n",
              " 6.177678571428571,\n",
              " 7.114087301587301,\n",
              " 8.075496031746031,\n",
              " 9.059632034632033,\n",
              " 10.064601370851369,\n",
              " 11.088801476301475]"
            ]
          },
          "metadata": {},
          "execution_count": 4
        }
      ]
    },
    {
      "cell_type": "markdown",
      "source": [
        "d)"
      ],
      "metadata": {
        "id": "2EeJlQsDupzI"
      }
    },
    {
      "cell_type": "code",
      "source": [
        "f = lambda t, y: math.cos(2*t) + math.sin(3*t)\n",
        "y_t0 = 1\n",
        "\n",
        "a = 0\n",
        "b = 1\n",
        "\n",
        "ys,ts, h = ODE_euler(a=a, b=b, y_t0=y_t0, f=f, N=10, h=0.25)\n",
        "ys"
      ],
      "metadata": {
        "colab": {
          "base_uri": "https://localhost:8080/"
        },
        "id": "Z2ghAcCJtyy5",
        "outputId": "eb799afa-3fb0-4eb0-a7ec-887633bcec14"
      },
      "execution_count": 5,
      "outputs": [
        {
          "output_type": "execute_result",
          "data": {
            "text/plain": [
              "[1,\n",
              " 1.25,\n",
              " 1.6398053304784268,\n",
              " 2.0242546535964756,\n",
              " 2.2364572532353817,\n",
              " 2.1677005461135628,\n",
              " 1.8245243125412434,\n",
              " 1.3326436589748578,\n",
              " 0.8837958637955108,\n",
              " 0.6505310840298764,\n",
              " 0.7103431526173358]"
            ]
          },
          "metadata": {},
          "execution_count": 5
        }
      ]
    }
  ],
  "metadata": {
    "kernelspec": {
      "display_name": "Python 3",
      "language": "python",
      "name": "python3"
    },
    "language_info": {
      "codemirror_mode": {
        "name": "ipython",
        "version": 3
      },
      "file_extension": ".py",
      "mimetype": "text/x-python",
      "name": "python",
      "nbconvert_exporter": "python",
      "version": "3.8.5"
    },
    "colab": {
      "provenance": []
    }
  },
  "nbformat": 4,
  "nbformat_minor": 0
}