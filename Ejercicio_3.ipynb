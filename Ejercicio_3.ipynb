{
  "cells": [
    {
      "cell_type": "code",
      "source": [
        "from typing import Callable\n",
        "# ####################################################################\n",
        "def ODE_euler(\n",
        "    *,\n",
        "    a: float,\n",
        "    b: float,\n",
        "    f: Callable[[float, float], float],\n",
        "    y_t0: float,\n",
        "    N: int,\n",
        "    h: float\n",
        ") -> tuple[list[float], list[float], float]:\n",
        "    t = a\n",
        "    ts = [t]\n",
        "    ys = [y_t0]\n",
        "\n",
        "    for _ in range(N):\n",
        "        y = ys[-1]\n",
        "        y += h * f(t, y)\n",
        "        ys.append(y)\n",
        "\n",
        "        t += h\n",
        "        ts.append(t)\n",
        "    return ys, ts, h"
      ],
      "metadata": {
        "id": "TV79tKROw258"
      },
      "execution_count": 3,
      "outputs": []
    },
    {
      "cell_type": "markdown",
      "source": [
        "a)"
      ],
      "metadata": {
        "id": "cXJuFiyNxQxy"
      }
    },
    {
      "cell_type": "code",
      "source": [
        "import matplotlib.pyplot as plt\n",
        "f = lambda t, y: y/t - (y/t)**2\n",
        "y_t0 = 1\n",
        "\n",
        "a = 1\n",
        "b = 2\n",
        "\n",
        "ys,ts, h = ODE_euler(a=a, b=b, y_t0=y_t0, f=f, N=10,h=0.1)\n",
        "ys\n"
      ],
      "metadata": {
        "colab": {
          "base_uri": "https://localhost:8080/"
        },
        "id": "RGv28-aKxGMb",
        "outputId": "6f2c4536-9cfd-47da-8101-51fd1a6bb3f7"
      },
      "execution_count": 4,
      "outputs": [
        {
          "output_type": "execute_result",
          "data": {
            "text/plain": [
              "[1,\n",
              " 1.0,\n",
              " 1.0082644628099173,\n",
              " 1.0216894717270375,\n",
              " 1.038514734248178,\n",
              " 1.0576681921408762,\n",
              " 1.0784610936317547,\n",
              " 1.100432164699466,\n",
              " 1.1232620515812632,\n",
              " 1.1467235965295264,\n",
              " 1.1706515695646647]"
            ]
          },
          "metadata": {},
          "execution_count": 4
        }
      ]
    },
    {
      "cell_type": "markdown",
      "source": [
        "b)"
      ],
      "metadata": {
        "id": "tO8vSPBzxR1k"
      }
    },
    {
      "cell_type": "code",
      "source": [
        "import matplotlib.pyplot as plt\n",
        "f = lambda t, y: 1 + y/t + (y/t)**2\n",
        "y_t0 = 0\n",
        "\n",
        "a = 1\n",
        "b = 3\n",
        "\n",
        "ys,ts, h = ODE_euler(a=a, b=b, y_t0=y_t0, f=f, N=10, h=0.2)\n",
        "ys"
      ],
      "metadata": {
        "colab": {
          "base_uri": "https://localhost:8080/"
        },
        "id": "yiW-PIa-xSeS",
        "outputId": "e7f453b9-1436-41d4-abe5-b30d8ec4fd49"
      },
      "execution_count": 5,
      "outputs": [
        {
          "output_type": "execute_result",
          "data": {
            "text/plain": [
              "[0,\n",
              " 0.2,\n",
              " 0.4388888888888889,\n",
              " 0.721242756361804,\n",
              " 1.0520380316573712,\n",
              " 1.4372511475238394,\n",
              " 1.8842608053291532,\n",
              " 2.402269588561542,\n",
              " 3.0028371645572136,\n",
              " 3.7006007049327985,\n",
              " 4.5142774281767]"
            ]
          },
          "metadata": {},
          "execution_count": 5
        }
      ]
    },
    {
      "cell_type": "markdown",
      "source": [
        "c)"
      ],
      "metadata": {
        "id": "nLgc_ePcxafy"
      }
    },
    {
      "cell_type": "code",
      "source": [
        "import matplotlib.pyplot as plt\n",
        "f = lambda t, y: -(y + 1)*(y + 3)\n",
        "y_t0 = -2\n",
        "\n",
        "a = 0\n",
        "b = 2\n",
        "\n",
        "ys,ts, h = ODE_euler(a=a, b=b, y_t0=y_t0, f=f, N=10, h=0.2)\n",
        "ys"
      ],
      "metadata": {
        "colab": {
          "base_uri": "https://localhost:8080/"
        },
        "id": "scQQKM6IxbJS",
        "outputId": "504df6b0-47d0-4ba2-dbc5-e7070b266df1"
      },
      "execution_count": 6,
      "outputs": [
        {
          "output_type": "execute_result",
          "data": {
            "text/plain": [
              "[-2,\n",
              " -1.8,\n",
              " -1.608,\n",
              " -1.4387328000000001,\n",
              " -1.3017369739591682,\n",
              " -1.199251224666308,\n",
              " -1.1274909449059896,\n",
              " -1.079745355150198,\n",
              " -1.0491190774237251,\n",
              " -1.0299539832076265,\n",
              " -1.0181518381465764]"
            ]
          },
          "metadata": {},
          "execution_count": 6
        }
      ]
    },
    {
      "cell_type": "markdown",
      "source": [
        "d)"
      ],
      "metadata": {
        "id": "xoduMegMxifZ"
      }
    },
    {
      "cell_type": "code",
      "source": [
        "import matplotlib.pyplot as plt\n",
        "f = lambda t, y: -5*y +5*(t)**2 +2*t\n",
        "y_t0 = 1/3\n",
        "\n",
        "a = 0\n",
        "b = 1\n",
        "\n",
        "ys,ts, h = ODE_euler(a=a, b=b, y_t0=y_t0, f=f, N=10, h=0.1)\n",
        "ys"
      ],
      "metadata": {
        "colab": {
          "base_uri": "https://localhost:8080/"
        },
        "id": "8mOycE-dxh3p",
        "outputId": "7a6c5b9f-5c24-466e-fdc5-b760d1aa627e"
      },
      "execution_count": 7,
      "outputs": [
        {
          "output_type": "execute_result",
          "data": {
            "text/plain": [
              "[0.3333333333333333,\n",
              " 0.16666666666666666,\n",
              " 0.10833333333333334,\n",
              " 0.11416666666666667,\n",
              " 0.16208333333333336,\n",
              " 0.2410416666666667,\n",
              " 0.34552083333333333,\n",
              " 0.4727604166666667,\n",
              " 0.6213802083333333,\n",
              " 0.7906901041666666,\n",
              " 0.9803450520833332]"
            ]
          },
          "metadata": {},
          "execution_count": 7
        }
      ]
    }
  ],
  "metadata": {
    "kernelspec": {
      "display_name": "Python 3",
      "language": "python",
      "name": "python3"
    },
    "language_info": {
      "codemirror_mode": {
        "name": "ipython",
        "version": 3
      },
      "file_extension": ".py",
      "mimetype": "text/x-python",
      "name": "python",
      "nbconvert_exporter": "python",
      "version": "3.8.5"
    },
    "colab": {
      "provenance": []
    }
  },
  "nbformat": 4,
  "nbformat_minor": 0
}