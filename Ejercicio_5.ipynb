{
  "nbformat": 4,
  "nbformat_minor": 0,
  "metadata": {
    "colab": {
      "provenance": []
    },
    "kernelspec": {
      "name": "python3",
      "display_name": "Python 3"
    },
    "language_info": {
      "name": "python"
    }
  },
  "cells": [
    {
      "cell_type": "code",
      "execution_count": 1,
      "metadata": {
        "id": "mVcp30Zt99qG"
      },
      "outputs": [],
      "source": [
        "def linear_interpolation(x0: float, y0: float, x1: float, y1: float, x: float) -> float:\n",
        "    return y0 + (y1 - y0) * (x - x0) / (x1 - x0)\n"
      ]
    },
    {
      "cell_type": "markdown",
      "source": [
        "a)"
      ],
      "metadata": {
        "id": "e2NxgLHW-Kji"
      }
    },
    {
      "cell_type": "code",
      "source": [
        "from typing import Callable, List, Tuple\n",
        "import math\n",
        "import matplotlib.pyplot as plt\n",
        "\n",
        "def ODE_euler(\n",
        "    a: float,\n",
        "    b: float,\n",
        "    f: Callable[[float, float], float],\n",
        "    y_t0: float,\n",
        "    N: int\n",
        ") -> Tuple[List[float], List[float]]:\n",
        "    h = (b - a) / N  # Tamaño del paso\n",
        "    t = a\n",
        "    ts = [t]\n",
        "    ys = [y_t0]\n",
        "\n",
        "    for _ in range(N):\n",
        "        y = ys[-1]\n",
        "        y += h * f(t, y)\n",
        "        ys.append(y)\n",
        "        t += h\n",
        "        ts.append(t)\n",
        "\n",
        "    return ys, ts\n",
        "\n",
        "# Función para mostrar resultados y errores\n",
        "def show_results_and_errors(ts: List[float], ys: List[float], exact_solution: Callable[[float], float], title: str):\n",
        "    exact_ys = [exact_solution(t) for t in ts]\n",
        "    errors = [abs(e - y) for e, y in zip(exact_ys, ys)]\n",
        "\n",
        "    for t, approx_y, exact_y, error in zip(ts, ys, exact_ys, errors):\n",
        "        print(f\"t = {t:.2f}, Aproximación de Euler: y = {approx_y:.5f}, Solución exacta: y = {exact_y:.5f}, Error: {error:.5f}\")\n",
        "\n",
        "# Función de interpolación lineal\n",
        "def linear_interpolation(x0: float, y0: float, x1: float, y1: float, x: float) -> float:\n",
        "    return y0 + (y1 - y0) * (x - x0) / (x1 - x0)\n",
        "\n",
        "# Interpolación lineal y comparación para los puntos específicos\n",
        "def interpolate_and_compare(ts, ys, exact_solution, points):\n",
        "    results = []\n",
        "    for t in points:\n",
        "        # Encontrar los puntos entre los que se va a interpolar\n",
        "        for i in range(len(ts) - 1):\n",
        "            if ts[i] <= t <= ts[i+1]:\n",
        "                approx = linear_interpolation(ts[i], ys[i], ts[i+1], ys[i+1], t)\n",
        "                exact = exact_solution(t)\n",
        "                error = abs(approx - exact)\n",
        "                results.append((t, approx, exact, error))\n",
        "                break\n",
        "    return results\n",
        "\n",
        "# Definir la solución exacta para el problema a)\n",
        "y_exact_a = lambda t: t / (1 + math.log(t))\n",
        "\n",
        "# Puntos a interpolar\n",
        "points_a = [1.25, 1.93]\n",
        "\n",
        "# Resultados del ejercicio 3 para el problema a)\n",
        "ys_a, ts_a = ODE_euler(a=1, b=2, y_t0=1, f=lambda t, y: y / t - (y / t) ** 2, N=10)\n",
        "\n",
        "# Interpolación y comparación\n",
        "results_a = interpolate_and_compare(ts_a, ys_a, y_exact_a, points_a)\n",
        "\n",
        "# Mostrar resultados\n",
        "for t, approx, exact, error in results_a:\n",
        "    print(f\"t = {t:.2f}, Aproximación: y = {approx:.5f}, Solución exacta: y = {exact:.5f}, Error: {error:.5f}\")\n",
        "\n"
      ],
      "metadata": {
        "colab": {
          "base_uri": "https://localhost:8080/"
        },
        "id": "plNBA_is-Lti",
        "outputId": "078dc018-8cb5-4b63-f7ef-8ad9618a5793"
      },
      "execution_count": 5,
      "outputs": [
        {
          "output_type": "stream",
          "name": "stdout",
          "text": [
            "t = 1.25, Aproximación: y = 1.01498, Solución exacta: y = 1.02196, Error: 0.00698\n",
            "t = 1.93, Aproximación: y = 1.15390, Solución exacta: y = 1.16439, Error: 0.01049\n"
          ]
        }
      ]
    },
    {
      "cell_type": "markdown",
      "source": [
        "b)"
      ],
      "metadata": {
        "id": "wdR8rK1X-qAr"
      }
    },
    {
      "cell_type": "code",
      "source": [
        "# Definir la solución exacta para el problema b)\n",
        "y_exact_b = lambda t: t * math.tan(math.log(t))\n",
        "\n",
        "# Puntos a interpolar\n",
        "points_b = [1.25, 1.93]\n",
        "\n",
        "# Resultados del ejercicio 3 para el problema b)\n",
        "ys_b, ts_b = ODE_euler(a=1, b=3, y_t0=0, f=lambda t, y: 1 + y / t + (y / t) ** 2, N=10)\n",
        "\n",
        "# Interpolación y comparación\n",
        "results_b = interpolate_and_compare(ts_b, ys_b, y_exact_b, points_b)\n",
        "\n",
        "# Mostrar resultados\n",
        "for t, approx, exact, error in results_b:\n",
        "    print(f\"t = {t:.2f}, Aproximación: y = {approx:.5f}, Solución exacta: y = {exact:.5f}, Error: {error:.5f}\")\n"
      ],
      "metadata": {
        "colab": {
          "base_uri": "https://localhost:8080/"
        },
        "id": "n70vUQMf-q2S",
        "outputId": "a8c78d32-0a49-44fb-8b80-68567552b24d"
      },
      "execution_count": 6,
      "outputs": [
        {
          "output_type": "stream",
          "name": "stdout",
          "text": [
            "t = 1.25, Aproximación: y = 0.25972, Solución exacta: y = 0.28365, Error: 0.02393\n",
            "t = 1.93, Aproximación: y = 1.30243, Solución exacta: y = 1.49023, Error: 0.18780\n"
          ]
        }
      ]
    },
    {
      "cell_type": "markdown",
      "source": [
        "c)"
      ],
      "metadata": {
        "id": "29MvuF3d_Ahi"
      }
    },
    {
      "cell_type": "code",
      "source": [
        "# Definir la solución exacta para el problema c)\n",
        "y_exact_c = lambda t: -3 + 2 / (1 + math.exp(-2 * t))\n",
        "\n",
        "# Puntos a interpolar\n",
        "points_c = [2.10, 2.75]\n",
        "\n",
        "# Resultados del ejercicio 3 para el problema c)\n",
        "ys_c, ts_c = ODE_euler(a=0, b=1, y_t0=-3, f=lambda t, y: -2*y + 2/(1 + math.exp(-2*t)), N=10)\n",
        "\n",
        "# Interpolación y comparación\n",
        "results_c = interpolate_and_compare(ts_c, ys_c, y_exact_c, points_c)\n",
        "\n",
        "# Mostrar resultados\n",
        "for t, approx, exact, error in results_c:\n",
        "    print(f\"t = {t:.2f}, Aproximación: y = {approx:.5f}, Solución exacta: y = {exact:.5f}, Error: {error:.5f}\")\n"
      ],
      "metadata": {
        "id": "Gld5FqN8_ABK"
      },
      "execution_count": 7,
      "outputs": []
    },
    {
      "cell_type": "markdown",
      "source": [
        "d)"
      ],
      "metadata": {
        "id": "PGCQX0Po_D_7"
      }
    },
    {
      "cell_type": "code",
      "source": [
        "# Definir la solución exacta para el problema d)\n",
        "y_exact_d = lambda t: t ** 2 + (1 / 3) * math.exp(-5 * t)\n",
        "\n",
        "# Puntos a interpolar\n",
        "points_d = [0.54, 0.94]\n",
        "\n",
        "# Resultados del ejercicio 3 para el problema d)\n",
        "ys_d, ts_d = ODE_euler(a=0, b=1, y_t0=1/3, f=lambda t, y: -5 * y + 5 * (t) ** 2 + 2 * t, N=10)\n",
        "\n",
        "# Interpolación y comparación\n",
        "results_d = interpolate_and_compare(ts_d, ys_d, y_exact_d, points_d)\n",
        "\n",
        "# Mostrar resultados\n",
        "for t, approx, exact, error in results_d:\n",
        "    print(f\"t = {t:.2f}, Aproximación: y = {approx:.5f}, Solución exacta: y = {exact:.5f}, Error: {error:.5f}\")\n"
      ],
      "metadata": {
        "colab": {
          "base_uri": "https://localhost:8080/"
        },
        "id": "Kj1eC5NW_E5D",
        "outputId": "97a220b2-a297-493c-8be7-879c8527b20d"
      },
      "execution_count": 8,
      "outputs": [
        {
          "output_type": "stream",
          "name": "stdout",
          "text": [
            "t = 0.54, Aproximación: y = 0.28283, Solución exacta: y = 0.31400, Error: 0.03117\n",
            "t = 0.94, Aproximación: y = 0.86655, Solución exacta: y = 0.88663, Error: 0.02008\n"
          ]
        }
      ]
    }
  ]
}